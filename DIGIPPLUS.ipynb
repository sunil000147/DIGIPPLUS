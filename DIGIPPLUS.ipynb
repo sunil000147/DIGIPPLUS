{
 "cells": [
  {
   "cell_type": "markdown",
   "id": "cd14173f-d06c-4f8c-bb99-2dc39671f7a0",
   "metadata": {},
   "source": [
    "# Flowchart for the Cricket Betting Model"
   ]
  },
  {
   "cell_type": "markdown",
   "id": "45965721-ad45-4ae6-b220-1da42fe02cd4",
   "metadata": {},
   "source": [
    "\n",
    "### Data Collection(webscraping) --> Data Preprocessing --> Feature Engineering --> Machine Learning Model Training --> Model Evaluation --> Betting Decision\n"
   ]
  },
  {
   "cell_type": "markdown",
   "id": "e08c9011-edf2-4348-b02a-dc9d5a75ca11",
   "metadata": {},
   "source": [
    "### import required libraries"
   ]
  },
  {
   "cell_type": "code",
   "execution_count": 2,
   "id": "e6a9d8ef-211e-4498-a578-2026f2a850b1",
   "metadata": {},
   "outputs": [],
   "source": [
    "import requests\n",
    "from bs4 import BeautifulSoup\n",
    "import numpy as np\n",
    "import pandas as pd\n",
    "from sklearn.linear_model import LogisticRegression"
   ]
  },
  {
   "cell_type": "markdown",
   "id": "50704437-e754-47af-9eb1-596e11a7d0db",
   "metadata": {},
   "source": [
    "### Data collection"
   ]
  },
  {
   "cell_type": "code",
   "execution_count": 3,
   "id": "75071b9f-fd95-4bf7-8b46-f7b39311f32d",
   "metadata": {},
   "outputs": [],
   "source": [
    "# Scrape the odds data from the cricket line guru app\n",
    "\n",
    "response = requests.get(\"https://www.cricketlineguru.com/live-scores\")\n",
    "soup = BeautifulSoup(response.content, \"html.parser\")\n",
    "\n",
    "odds_data = []\n",
    "\n",
    "for match in soup.find_all(\"div\", class_=\"match-row\"):\n",
    "    \n",
    "    team1_name = match.find(\"span\", class_=\"team1-name\").text\n",
    "    team2_name = match.find(\"span\", class_=\"team2-name\").text\n",
    "    odds1 = float(match.find(\"span\", class_=\"odds1\").text)\n",
    "    odds2 = float(match.find(\"span\", class_=\"odds2\").text)\n",
    "\n",
    "    odds_data.append([team1_name, team2_name, odds1, odds2])\n",
    "\n",
    "\n",
    "    "
   ]
  },
  {
   "cell_type": "markdown",
   "id": "60b75857-950f-4d89-b695-9251778a1aa8",
   "metadata": {},
   "source": [
    "### Data Preprocessing"
   ]
  },
  {
   "cell_type": "code",
   "execution_count": 4,
   "id": "a152fb55-3177-4391-adf2-cb593f88a7cb",
   "metadata": {},
   "outputs": [],
   "source": [
    "# Clean and pre-process the odds data\n",
    "def clean_and_preprocess_odds_data(odds_data):\n",
    "    odds_data = pd.DataFrame(odds_data, columns=[\"team1_name\", \"team2_name\", \"odds1\", \"odds2\"])\n",
    "    odds_data = odds_data.dropna()\n",
    "\n",
    "    return odds_data"
   ]
  },
  {
   "cell_type": "markdown",
   "id": "df5a66db-657c-4a22-88be-5bd81d6bcfa3",
   "metadata": {},
   "source": [
    "### Feature Engineering"
   ]
  },
  {
   "cell_type": "code",
   "execution_count": 5,
   "id": "8d46bab7-3a78-4d82-a350-30a104a8a89e",
   "metadata": {},
   "outputs": [],
   "source": [
    "# features  Engineer from the odds data\n",
    "def engineer_features(odds_data):\n",
    "    odds_data[\"odds_ratio\"] = odds_data[\"odds1\"] / odds_data[\"odds2\"]\n",
    "\n",
    "    return odds_data"
   ]
  },
  {
   "cell_type": "markdown",
   "id": "b175de42-fa26-4697-a119-318df8ff02cd",
   "metadata": {},
   "source": [
    "### Model Training"
   ]
  },
  {
   "cell_type": "code",
   "execution_count": 6,
   "id": "4663e2e3-f47a-4bc4-9d26-c34f39cf235d",
   "metadata": {},
   "outputs": [],
   "source": [
    "# Train a machine learning model to predict the probability of each team winning\n",
    "def train_model(odds_data):\n",
    "    X = odds_data[[\"odds_ratio\"]]\n",
    "    y = odds_data[\"team1_name\"]\n",
    "\n",
    "    model = LogisticRegression()\n",
    "    model.fit(X, y)\n",
    "\n",
    "    return model"
   ]
  },
  {
   "cell_type": "markdown",
   "id": "14468ae0-1c32-4aa4-ab0c-b6d254131729",
   "metadata": {},
   "source": [
    "### Model Evaluation "
   ]
  },
  {
   "cell_type": "code",
   "execution_count": 7,
   "id": "3e8fc295-792a-4708-b46c-f07910f6563d",
   "metadata": {},
   "outputs": [],
   "source": [
    "# Evaluate the performance of the trained model on a held-out test set\n",
    "def evaluate_model(model, odds_data):\n",
    "    X_test = odds_data[[\"odds_ratio\"]]\n",
    "    y_test = odds_data[\"team1_name\"]\n",
    "\n",
    "    y_pred = model.predict(X_test)\n",
    "\n",
    "    accuracy = np.mean(y_pred == y_test)\n",
    "\n",
    "    print(\"Accuracy:\", accuracy)"
   ]
  },
  {
   "cell_type": "markdown",
   "id": "387eb258-d238-46ae-a52b-ad20762e49da",
   "metadata": {},
   "source": [
    "### Betting Decision"
   ]
  },
  {
   "cell_type": "code",
   "execution_count": 8,
   "id": "a9570ec5-a51d-4944-b506-49e86c49450a",
   "metadata": {},
   "outputs": [],
   "source": [
    "# Use the model to predict the right time to buy and sell a bet\n",
    "def predict_right_time_to_bet(model, odds_data):\n",
    "    X = odds_data[[\"odds_ratio\"]]\n",
    "\n",
    "    y_pred = model.predict(X)\n",
    "\n",
    "    return y_pred"
   ]
  },
  {
   "cell_type": "markdown",
   "id": "32701fa6-985d-4855-a54a-139f2e79ddfe",
   "metadata": {},
   "source": [
    "### If the model predicts that the team with the lower odds is likely to win, then it is a good time to buy a bet on that team.\n",
    "### If the model predicts that the team with the higher odds is likely to win, then it is a good time to sell a bet on that team"
   ]
  },
  {
   "cell_type": "code",
   "execution_count": null,
   "id": "4d18138d-076d-46e6-a2c1-d3f5139735a4",
   "metadata": {},
   "outputs": [],
   "source": []
  }
 ],
 "metadata": {
  "kernelspec": {
   "display_name": "Python 3 (ipykernel)",
   "language": "python",
   "name": "python3"
  },
  "language_info": {
   "codemirror_mode": {
    "name": "ipython",
    "version": 3
   },
   "file_extension": ".py",
   "mimetype": "text/x-python",
   "name": "python",
   "nbconvert_exporter": "python",
   "pygments_lexer": "ipython3",
   "version": "3.10.8"
  }
 },
 "nbformat": 4,
 "nbformat_minor": 5
}
